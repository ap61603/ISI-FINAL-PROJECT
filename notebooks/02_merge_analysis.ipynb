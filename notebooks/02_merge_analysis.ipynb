{
 "cells": [
  {
   "cell_type": "markdown",
   "metadata": {},
   "source": [
    "# Merge and Analysis: NYC Noise Complaints vs Liquor Licenses\n",
    "\n",
    "This notebook loads cleaned datasets, groups by ZIP code, merges them, calculates correlation, and creates visualizations."
   ]
  },
  {
   "cell_type": "markdown",
   "metadata": {},
   "source": [
    "## 1. Setup and Imports"
   ]
  },
  {
   "cell_type": "code",
   "execution_count": null,
   "metadata": {},
   "outputs": [],
   "source": [
    "import pandas as pd\n",
    "import numpy as np\n",
    "import matplotlib.pyplot as plt\n",
    "import seaborn as sns\n",
    "from pathlib import Path\n",
    "from scipy import stats\n",
    "import warnings\n",
    "warnings.filterwarnings('ignore')\n",
    "\n",
    "# Set display options\n",
    "pd.set_option('display.max_columns', None)\n",
    "pd.set_option('display.max_rows', 100)\n",
    "\n",
    "# Set plot style\n",
    "sns.set_style('whitegrid')\n",
    "plt.rcParams['figure.figsize'] = (12, 8)"
   ]
  },
  {
   "cell_type": "markdown",
   "metadata": {},
   "source": [
    "## 2. Load Cleaned Datasets"
   ]
  },
  {
   "cell_type": "code",
   "execution_count": null,
   "metadata": {},
   "outputs": [],
   "source": [
    "# Define data paths\n",
    "data_dir = Path('../data/clean')\n",
    "noise_file = data_dir / '311_noise_cleaned.csv'\n",
    "liquor_file = data_dir / 'liquor_cleaned.csv'\n",
    "\n",
    "# Load cleaned datasets\n",
    "print(\"Loading cleaned datasets...\\n\")\n",
    "\n",
    "df_noise = pd.read_csv(noise_file)\n",
    "print(f\"Loaded 311 noise complaints: {len(df_noise)} records\")\n",
    "print(f\"Columns: {df_noise.columns.tolist()}\")\n",
    "\n",
    "df_liquor = pd.read_csv(liquor_file)\n",
    "print(f\"\\nLoaded liquor licenses: {len(df_liquor)} records\")\n",
    "print(f\"Columns: {df_liquor.columns.tolist()}\")"
   ]
  },
  {
   "cell_type": "markdown",
   "metadata": {},
   "source": [
    "## 3. Group Data by ZIP Code"
   ]
  },
  {
   "cell_type": "code",
   "execution_count": null,
   "metadata": {},
   "outputs": [],
   "source": [
    "# Count noise complaints per ZIP code\n",
    "print(\"Grouping noise complaints by ZIP code...\")\n",
    "noise_by_zip = df_noise.groupby('zip_code').size().reset_index(name='noise_count')\n",
    "print(f\"Unique ZIP codes with noise complaints: {len(noise_by_zip)}\")\n",
    "print(\"\\nTop 10 ZIP codes by noise complaints:\")\n",
    "print(noise_by_zip.sort_values('noise_count', ascending=False).head(10))"
   ]
  },
  {
   "cell_type": "code",
   "execution_count": null,
   "metadata": {},
   "outputs": [],
   "source": [
    "# Count liquor licenses per ZIP code\n",
    "print(\"\\nGrouping liquor licenses by ZIP code...\")\n",
    "liquor_by_zip = df_liquor.groupby('zip_code').size().reset_index(name='liquor_count')\n",
    "print(f\"Unique ZIP codes with liquor licenses: {len(liquor_by_zip)}\")\n",
    "print(\"\\nTop 10 ZIP codes by liquor licenses:\")\n",
    "print(liquor_by_zip.sort_values('liquor_count', ascending=False).head(10))"
   ]
  },
  {
   "cell_type": "markdown",
   "metadata": {},
   "source": [
    "## 4. Merge Counts by ZIP Code"
   ]
  },
  {
   "cell_type": "code",
   "execution_count": null,
   "metadata": {},
   "outputs": [],
   "source": [
    "# Merge noise and liquor counts on ZIP code\n",
    "print(\"Merging datasets by ZIP code...\\n\")\n",
    "merged_data = pd.merge(\n",
    "    noise_by_zip,\n",
    "    liquor_by_zip,\n",
    "    on='zip_code',\n",
    "    how='outer'\n",
    ")\n",
    "\n",
    "# Fill NaN values with 0 (ZIP codes with only one type of data)\n",
    "merged_data['noise_count'] = merged_data['noise_count'].fillna(0).astype(int)\n",
    "merged_data['liquor_count'] = merged_data['liquor_count'].fillna(0).astype(int)\n",
    "\n",
    "print(f\"Merged dataset: {len(merged_data)} ZIP codes\")\n",
    "print(f\"ZIP codes with both noise complaints and liquor licenses: {((merged_data['noise_count'] > 0) & (merged_data['liquor_count'] > 0)).sum()}\")\n",
    "print(\"\\nFirst 10 rows of merged data:\")\n",
    "print(merged_data.head(10))"
   ]
  },
  {
   "cell_type": "code",
   "execution_count": null,
   "metadata": {},
   "outputs": [],
   "source": [
    "# Summary statistics\n",
    "print(\"\\nSummary Statistics:\")\n",
    "print(merged_data[['noise_count', 'liquor_count']].describe())"
   ]
  },
  {
   "cell_type": "markdown",
   "metadata": {},
   "source": [
    "## 5. Calculate Correlation"
   ]
  },
  {
   "cell_type": "code",
   "execution_count": null,
   "metadata": {},
   "outputs": [],
   "source": [
    "# Calculate correlation coefficient\n",
    "# Filter to ZIP codes that have at least one of each (for meaningful correlation)\n",
    "merged_active = merged_data[(merged_data['noise_count'] > 0) & (merged_data['liquor_count'] > 0)].copy()\n",
    "\n",
    "if len(merged_active) > 1:\n",
    "    # Pearson correlation\n",
    "    pearson_corr, pearson_pval = stats.pearsonr(merged_active['liquor_count'], merged_active['noise_count'])\n",
    "    \n",
    "    # Spearman correlation (rank-based, more robust to outliers)\n",
    "    spearman_corr, spearman_pval = stats.spearmanr(merged_active['liquor_count'], merged_active['noise_count'])\n",
    "    \n",
    "    print(\"=\"*80)\n",
    "    print(\"CORRELATION ANALYSIS\")\n",
    "    print(\"=\"*80)\n",
    "    print(f\"\\nZIP codes analyzed: {len(merged_active)}\")\n",
    "    print(f\"\\nPearson Correlation Coefficient: {pearson_corr:.4f}\")\n",
    "    print(f\"P-value: {pearson_pval:.4e}\")\n",
    "    print(f\"Statistically significant: {'Yes' if pearson_pval < 0.05 else 'No'}\")\n",
    "    \n",
    "    print(f\"\\nSpearman Correlation Coefficient: {spearman_corr:.4f}\")\n",
    "    print(f\"P-value: {spearman_pval:.4e}\")\n",
    "    print(f\"Statistically significant: {'Yes' if spearman_pval < 0.05 else 'No'}\")\n",
    "    \n",
    "    # Interpretation\n",
    "    print(\"\\nInterpretation:\")\n",
    "    if abs(pearson_corr) < 0.3:\n",
    "        strength = \"weak\"\n",
    "    elif abs(pearson_corr) < 0.7:\n",
    "        strength = \"moderate\"\n",
    "    else:\n",
    "        strength = \"strong\"\n",
    "    \n",
    "    direction = \"positive\" if pearson_corr > 0 else \"negative\"\n",
    "    print(f\"There is a {strength} {direction} correlation between liquor license density\")\n",
    "    print(f\"and noise complaints across ZIP codes in Brooklyn and Staten Island.\")\n",
    "else:\n",
    "    print(\"Not enough data points for correlation analysis.\")"
   ]
  },
  {
   "cell_type": "markdown",
   "metadata": {},
   "source": [
    "## 6. Create Scatter Plot with Trendline"
   ]
  },
  {
   "cell_type": "code",
   "execution_count": null,
   "metadata": {},
   "outputs": [],
   "source": [
    "# Create scatter plot\n",
    "if len(merged_active) > 1:\n",
    "    fig, ax = plt.subplots(figsize=(12, 8))\n",
    "    \n",
    "    # Scatter plot\n",
    "    ax.scatter(\n",
    "        merged_active['liquor_count'],\n",
    "        merged_active['noise_count'],\n",
    "        alpha=0.6,\n",
    "        s=100,\n",
    "        edgecolors='black',\n",
    "        linewidths=0.5\n",
    "    )\n",
    "    \n",
    "    # Add trendline\n",
    "    z = np.polyfit(merged_active['liquor_count'], merged_active['noise_count'], 1)\n",
    "    p = np.poly1d(z)\n",
    "    x_line = np.linspace(\n",
    "        merged_active['liquor_count'].min(),\n",
    "        merged_active['liquor_count'].max(),\n",
    "        100\n",
    "    )\n",
    "    ax.plot(x_line, p(x_line), \"r--\", linewidth=2, label=f'Trendline: y = {z[0]:.2f}x + {z[1]:.2f}')\n",
    "    \n",
    "    # Labels and title\n",
    "    ax.set_xlabel('Number of Liquor Licenses', fontsize=12, fontweight='bold')\n",
    "    ax.set_ylabel('Number of Noise Complaints', fontsize=12, fontweight='bold')\n",
    "    ax.set_title(\n",
    "        'Correlation Between Liquor Licenses and Noise Complaints\\nBrooklyn & Staten Island (2024)',\n",
    "        fontsize=14,\n",
    "        fontweight='bold',\n",
    "        pad=20\n",
    "    )\n",
    "    \n",
    "    # Add correlation coefficient to plot\n",
    "    textstr = f'Pearson r = {pearson_corr:.4f}\\np-value = {pearson_pval:.4e}\\nn = {len(merged_active)} ZIP codes'\n",
    "    props = dict(boxstyle='round', facecolor='wheat', alpha=0.8)\n",
    "    ax.text(\n",
    "        0.05, 0.95,\n",
    "        textstr,\n",
    "        transform=ax.transAxes,\n",
    "        fontsize=10,\n",
    "        verticalalignment='top',\n",
    "        bbox=props\n",
    "    )\n",
    "    \n",
    "    ax.legend(fontsize=10)\n",
    "    ax.grid(True, alpha=0.3)\n",
    "    plt.tight_layout()\n",
    "    \n",
    "    # Save the plot\n",
    "    output_dir = Path('../output')\n",
    "    output_dir.mkdir(parents=True, exist_ok=True)\n",
    "    plot_file = output_dir / 'liquor_vs_noise_scatter.png'\n",
    "    plt.savefig(plot_file, dpi=300, bbox_inches='tight')\n",
    "    print(f\"\\nSaved plot to: {plot_file}\")\n",
    "    \n",
    "    plt.show()\n",
    "else:\n",
    "    print(\"Not enough data points to create scatter plot.\")"
   ]
  },
  {
   "cell_type": "markdown",
   "metadata": {},
   "source": [
    "## 7. Additional Visualizations"
   ]
  },
  {
   "cell_type": "code",
   "execution_count": null,
   "metadata": {},
   "outputs": [],
   "source": [
    "# Create a bar chart showing top 10 ZIP codes by both metrics\n",
    "if len(merged_active) > 0:\n",
    "    # Get top 10 ZIP codes by total activity (noise + liquor)\n",
    "    merged_active['total_activity'] = merged_active['noise_count'] + merged_active['liquor_count']\n",
    "    top_10 = merged_active.nlargest(10, 'total_activity')\n",
    "    \n",
    "    fig, ax = plt.subplots(figsize=(12, 6))\n",
    "    \n",
    "    x = np.arange(len(top_10))\n",
    "    width = 0.35\n",
    "    \n",
    "    ax.bar(x - width/2, top_10['noise_count'], width, label='Noise Complaints', alpha=0.8)\n",
    "    ax.bar(x + width/2, top_10['liquor_count'], width, label='Liquor Licenses', alpha=0.8)\n",
    "    \n",
    "    ax.set_xlabel('ZIP Code', fontsize=12, fontweight='bold')\n",
    "    ax.set_ylabel('Count', fontsize=12, fontweight='bold')\n",
    "    ax.set_title('Top 10 ZIP Codes by Activity\\n(Noise Complaints + Liquor Licenses)', \n",
    "                 fontsize=14, fontweight='bold', pad=20)\n",
    "    ax.set_xticks(x)\n",
    "    ax.set_xticklabels(top_10['zip_code'], rotation=45, ha='right')\n",
    "    ax.legend(fontsize=10)\n",
    "    ax.grid(True, alpha=0.3, axis='y')\n",
    "    \n",
    "    plt.tight_layout()\n",
    "    \n",
    "    # Save the plot\n",
    "    plot_file2 = output_dir / 'top_10_zip_codes.png'\n",
    "    plt.savefig(plot_file2, dpi=300, bbox_inches='tight')\n",
    "    print(f\"Saved plot to: {plot_file2}\")\n",
    "    \n",
    "    plt.show()"
   ]
  },
  {
   "cell_type": "markdown",
   "metadata": {},
   "source": [
    "## 8. Save Merged Data"
   ]
  },
  {
   "cell_type": "code",
   "execution_count": null,
   "metadata": {},
   "outputs": [],
   "source": [
    "# Save merged data to CSV\n",
    "output_file = output_dir / 'merged_analysis.csv'\n",
    "merged_data.to_csv(output_file, index=False)\n",
    "print(f\"\\nSaved merged data to: {output_file}\")\n",
    "print(f\"Total ZIP codes: {len(merged_data)}\")\n",
    "print(f\"Columns: {merged_data.columns.tolist()}\")"
   ]
  },
  {
   "cell_type": "markdown",
   "metadata": {},
   "source": [
    "## 9. Summary Report"
   ]
  },
  {
   "cell_type": "code",
   "execution_count": null,
   "metadata": {},
   "outputs": [],
   "source": [
    "print(\"\\n\" + \"=\"*80)\n",
    "print(\"FINAL SUMMARY REPORT\")\n",
    "print(\"=\"*80)\n",
    "print(f\"\\nAnalysis Region: Brooklyn & Staten Island\")\n",
    "print(f\"Time Period: 2024\")\n",
    "print(f\"\\nData Summary:\")\n",
    "print(f\"  Total ZIP codes analyzed: {len(merged_data)}\")\n",
    "print(f\"  ZIP codes with noise complaints: {(merged_data['noise_count'] > 0).sum()}\")\n",
    "print(f\"  ZIP codes with liquor licenses: {(merged_data['liquor_count'] > 0).sum()}\")\n",
    "print(f\"  ZIP codes with both: {len(merged_active)}\")\n",
    "\n",
    "print(f\"\\nNoise Complaints:\")\n",
    "print(f\"  Total: {merged_data['noise_count'].sum():,}\")\n",
    "print(f\"  Average per ZIP: {merged_data['noise_count'].mean():.1f}\")\n",
    "print(f\"  Median per ZIP: {merged_data['noise_count'].median():.1f}\")\n",
    "print(f\"  Max in single ZIP: {merged_data['noise_count'].max():,}\")\n",
    "\n",
    "print(f\"\\nLiquor Licenses:\")\n",
    "print(f\"  Total: {merged_data['liquor_count'].sum():,}\")\n",
    "print(f\"  Average per ZIP: {merged_data['liquor_count'].mean():.1f}\")\n",
    "print(f\"  Median per ZIP: {merged_data['liquor_count'].median():.1f}\")\n",
    "print(f\"  Max in single ZIP: {merged_data['liquor_count'].max():,}\")\n",
    "\n",
    "if len(merged_active) > 1:\n",
    "    print(f\"\\nCorrelation Analysis:\")\n",
    "    print(f\"  Pearson correlation: {pearson_corr:.4f} (p={pearson_pval:.4e})\")\n",
    "    print(f\"  Spearman correlation: {spearman_corr:.4f} (p={spearman_pval:.4e})\")\n",
    "    print(f\"  Statistical significance: {'Yes' if pearson_pval < 0.05 else 'No'}\")\n",
    "\n",
    "print(f\"\\nOutput Files:\")\n",
    "print(f\"  Merged data: {output_file}\")\n",
    "if len(merged_active) > 1:\n",
    "    print(f\"  Scatter plot: {plot_file}\")\n",
    "    print(f\"  Top 10 ZIP codes: {plot_file2}\")\n",
    "\n",
    "print(\"\\n\" + \"=\"*80)"
   ]
  }
 ],
 "metadata": {
  "kernelspec": {
   "display_name": "Python 3",
   "language": "python",
   "name": "python3"
  },
  "language_info": {
   "codemirror_mode": {
    "name": "ipython",
    "version": 3
   },
   "file_extension": ".py",
   "mimetype": "text/x-python",
   "name": "python",
   "nbconvert_exporter": "python",
   "pygments_lexer": "ipython3",
   "version": "3.8.0"
  }
 },
 "nbformat": 4,
 "nbformat_minor": 4
}
