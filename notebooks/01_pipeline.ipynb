{
 "cells": [
  {
   "cell_type": "markdown",
   "metadata": {},
   "source": [
    "# Noise Complaints Associated With Areas That Have Liquor Licenses\n",
    "\n",
    "This notebook analyzes the relationship between liquor licenses and noise complaints in NYC."
   ]
  },
  {
   "cell_type": "markdown",
   "metadata": {},
   "source": [
    "## 1. Setup and Imports"
   ]
  },
  {
   "cell_type": "code",
   "execution_count": null,
   "metadata": {},
   "outputs": [],
   "source": [
    "import pandas as pd\n",
    "import numpy as np\n",
    "import matplotlib.pyplot as plt\n",
    "import seaborn as sns\n",
    "from pathlib import Path\n",
    "\n",
    "# Set display options\n",
    "pd.set_option('display.max_columns', None)\n",
    "pd.set_option('display.max_rows', 100)\n",
    "\n",
    "# Set plot style\n",
    "sns.set_style('whitegrid')\n",
    "plt.rcParams['figure.figsize'] = (12, 6)"
   ]
  },
  {
   "cell_type": "markdown",
   "metadata": {},
   "source": [
    "## 2. Load Data"
   ]
  },
  {
   "cell_type": "code",
   "execution_count": null,
   "metadata": {},
   "outputs": [],
   "source": [
    "# Define data paths\n",
    "data_dir = Path('../data/raw')\n",
    "liquor_license_file = data_dir / 'sla_active.csv'\n",
    "noise_complaints_file = data_dir / '311_noise.csv'\n",
    "\n",
    "# Load liquor license data\n",
    "print(\"Loading liquor license data...\")\n",
    "liquor_df = pd.read_csv(liquor_license_file)\n",
    "print(f\"Loaded {len(liquor_df)} liquor license records\")\n",
    "\n",
    "# Load noise complaint data (if available)\n",
    "if noise_complaints_file.exists():\n",
    "    print(\"\\nLoading noise complaint data...\")\n",
    "    noise_df = pd.read_csv(noise_complaints_file)\n",
    "    print(f\"Loaded {len(noise_df)} noise complaint records\")\n",
    "else:\n",
    "    print(\"\\nNote: 311_noise.csv not found. Please download NYC 311 noise complaint data.\")\n",
    "    print(\"Data source: https://data.cityofnewyork.us/Social-Services/311-Service-Requests-from-2010-to-Present/erm2-nwe9\")\n",
    "    noise_df = None"
   ]
  },
  {
   "cell_type": "markdown",
   "metadata": {},
   "source": [
    "## 3. Explore Liquor License Data"
   ]
  },
  {
   "cell_type": "code",
   "execution_count": null,
   "metadata": {},
   "outputs": [],
   "source": [
    "# Display basic information\n",
    "print(\"Liquor License Data Structure:\")\n",
    "print(liquor_df.info())\n",
    "print(\"\\nFirst few records:\")\n",
    "liquor_df.head()"
   ]
  },
  {
   "cell_type": "code",
   "execution_count": null,
   "metadata": {},
   "outputs": [],
   "source": [
    "# Check for missing values\n",
    "print(\"Missing Values:\")\n",
    "missing = liquor_df.isnull().sum()\n",
    "print(missing[missing > 0])"
   ]
  },
  {
   "cell_type": "code",
   "execution_count": null,
   "metadata": {},
   "outputs": [],
   "source": [
    "# Summary statistics\n",
    "print(\"Summary Statistics:\")\n",
    "liquor_df.describe()"
   ]
  },
  {
   "cell_type": "markdown",
   "metadata": {},
   "source": [
    "## 4. Data Preprocessing"
   ]
  },
  {
   "cell_type": "code",
   "execution_count": null,
   "metadata": {},
   "outputs": [],
   "source": [
    "# Parse georeference data to extract latitude and longitude\n",
    "def extract_coordinates(georeference):\n",
    "    \"\"\"Extract latitude and longitude from POINT string.\"\"\"\n",
    "    if pd.isna(georeference):\n",
    "        return pd.Series({'longitude': None, 'latitude': None})\n",
    "    try:\n",
    "        # Remove 'POINT (' and ')' and split\n",
    "        coords = georeference.replace('POINT (', '').replace(')', '').split()\n",
    "        return pd.Series({'longitude': float(coords[0]), 'latitude': float(coords[1])})\n",
    "    except:\n",
    "        return pd.Series({'longitude': None, 'latitude': None})\n",
    "\n",
    "# Extract coordinates\n",
    "liquor_df[['longitude', 'latitude']] = liquor_df['Georeference'].apply(extract_coordinates)\n",
    "\n",
    "# Convert date columns to datetime\n",
    "date_columns = ['Original Issue Date', 'Last Issue Date', 'Effective Date', 'Expiration Date']\n",
    "for col in date_columns:\n",
    "    liquor_df[col] = pd.to_datetime(liquor_df[col], errors='coerce')\n",
    "\n",
    "print(\"Preprocessed liquor license data:\")\n",
    "print(f\"Records with valid coordinates: {liquor_df[['longitude', 'latitude']].notna().all(axis=1).sum()}\")"
   ]
  },
  {
   "cell_type": "markdown",
   "metadata": {},
   "source": [
    "## 5. Analyze Liquor License Distribution"
   ]
  },
  {
   "cell_type": "code",
   "execution_count": null,
   "metadata": {},
   "outputs": [],
   "source": [
    "# Distribution by county\n",
    "print(\"Liquor Licenses by County:\")\n",
    "county_counts = liquor_df['Premises County'].value_counts()\n",
    "print(county_counts)\n",
    "\n",
    "# Visualize\n",
    "plt.figure(figsize=(10, 6))\n",
    "county_counts.plot(kind='bar')\n",
    "plt.title('Distribution of Liquor Licenses by County')\n",
    "plt.xlabel('County')\n",
    "plt.ylabel('Number of Licenses')\n",
    "plt.xticks(rotation=45)\n",
    "plt.tight_layout()\n",
    "plt.show()"
   ]
  },
  {
   "cell_type": "code",
   "execution_count": null,
   "metadata": {},
   "outputs": [],
   "source": [
    "# Distribution by type\n",
    "print(\"\\nLiquor Licenses by Type:\")\n",
    "type_counts = liquor_df['Description'].value_counts()\n",
    "print(type_counts)\n",
    "\n",
    "# Visualize top 10 types\n",
    "plt.figure(figsize=(12, 6))\n",
    "type_counts.head(10).plot(kind='barh')\n",
    "plt.title('Top 10 License Types')\n",
    "plt.xlabel('Number of Licenses')\n",
    "plt.ylabel('License Type')\n",
    "plt.tight_layout()\n",
    "plt.show()"
   ]
  },
  {
   "cell_type": "code",
   "execution_count": null,
   "metadata": {},
   "outputs": [],
   "source": [
    "# Geographic distribution (for Richmond County - Staten Island)\n",
    "richmond_df = liquor_df[liquor_df['Premises County'] == 'Richmond'].copy()\n",
    "richmond_valid = richmond_df[richmond_df[['longitude', 'latitude']].notna().all(axis=1)]\n",
    "\n",
    "if len(richmond_valid) > 0:\n",
    "    plt.figure(figsize=(12, 10))\n",
    "    plt.scatter(richmond_valid['longitude'], richmond_valid['latitude'], \n",
    "                alpha=0.5, s=20, c='red')\n",
    "    plt.title('Geographic Distribution of Liquor Licenses in Richmond County (Staten Island)')\n",
    "    plt.xlabel('Longitude')\n",
    "    plt.ylabel('Latitude')\n",
    "    plt.grid(True, alpha=0.3)\n",
    "    plt.tight_layout()\n",
    "    plt.show()\n",
    "    \n",
    "    print(f\"\\nRichmond County: {len(richmond_valid)} licenses with valid coordinates\")"
   ]
  },
  {
   "cell_type": "markdown",
   "metadata": {},
   "source": [
    "## 6. Analyze Noise Complaint Data (if available)"
   ]
  },
  {
   "cell_type": "code",
   "execution_count": null,
   "metadata": {},
   "outputs": [],
   "source": [
    "if noise_df is not None:\n",
    "    print(\"Noise Complaint Data Structure:\")\n",
    "    print(noise_df.info())\n",
    "    print(\"\\nFirst few records:\")\n",
    "    display(noise_df.head())\n",
    "    \n",
    "    # Filter for noise complaints\n",
    "    # Typically 311 data has a 'Complaint Type' column\n",
    "    if 'Complaint Type' in noise_df.columns:\n",
    "        noise_only = noise_df[noise_df['Complaint Type'].str.contains('Noise', case=False, na=False)]\n",
    "        print(f\"\\nFiltered to {len(noise_only)} noise-related complaints\")\n",
    "else:\n",
    "    print(\"Noise complaint data not available. Please download from NYC Open Data.\")"
   ]
  },
  {
   "cell_type": "markdown",
   "metadata": {},
   "source": [
    "## 7. Spatial Analysis (if noise data available)"
   ]
  },
  {
   "cell_type": "code",
   "execution_count": null,
   "metadata": {},
   "outputs": [],
   "source": [
    "if noise_df is not None:\n",
    "    # This section would contain spatial analysis code\n",
    "    # Example: Calculate distance between noise complaints and liquor licenses\n",
    "    # Example: Create heat maps showing overlap\n",
    "    # Example: Statistical correlation analysis\n",
    "    \n",
    "    print(\"Spatial analysis code would go here\")\n",
    "    print(\"This would include:\")\n",
    "    print(\"- Distance calculations between complaints and licenses\")\n",
    "    print(\"- Clustering analysis\")\n",
    "    print(\"- Heat map visualizations\")\n",
    "    print(\"- Statistical correlation tests\")\n",
    "else:\n",
    "    print(\"Spatial analysis requires noise complaint data.\")"
   ]
  },
  {
   "cell_type": "markdown",
   "metadata": {},
   "source": [
    "## 8. Summary and Conclusions"
   ]
  },
  {
   "cell_type": "code",
   "execution_count": null,
   "metadata": {},
   "outputs": [],
   "source": [
    "print(\"Analysis Summary:\")\n",
    "print(f\"\\nTotal liquor licenses analyzed: {len(liquor_df)}\")\n",
    "print(f\"Counties covered: {liquor_df['Premises County'].nunique()}\")\n",
    "print(f\"License types: {liquor_df['Description'].nunique()}\")\n",
    "print(f\"Records with valid geographic coordinates: {liquor_df[['longitude', 'latitude']].notna().all(axis=1).sum()}\")\n",
    "\n",
    "if noise_df is not None:\n",
    "    print(f\"\\nNoise complaints analyzed: {len(noise_df)}\")\n",
    "else:\n",
    "    print(\"\\nNote: Complete the analysis by adding noise complaint data.\")"
   ]
  },
  {
   "cell_type": "markdown",
   "metadata": {},
   "source": [
    "## Next Steps\n",
    "\n",
    "1. Download NYC 311 noise complaint data from [NYC Open Data](https://data.cityofnewyork.us/Social-Services/311-Service-Requests-from-2010-to-Present/erm2-nwe9)\n",
    "2. Filter for noise-related complaints\n",
    "3. Perform spatial join to find noise complaints near liquor licenses\n",
    "4. Analyze temporal patterns (time of day, day of week)\n",
    "5. Create visualizations showing correlations\n",
    "6. Generate statistical reports"
   ]
  }
 ],
 "metadata": {
  "kernelspec": {
   "display_name": "Python 3",
   "language": "python",
   "name": "python3"
  },
  "language_info": {
   "codemirror_mode": {
    "name": "ipython",
    "version": 3
   },
   "file_extension": ".py",
   "mimetype": "text/x-python",
   "name": "python",
   "nbconvert_exporter": "python",
   "pygments_lexer": "ipython3",
   "version": "3.8.0"
  }
 },
 "nbformat": 4,
 "nbformat_minor": 4
}


