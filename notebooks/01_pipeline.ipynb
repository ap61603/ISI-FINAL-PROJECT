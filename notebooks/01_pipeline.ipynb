{
 "cells": [
  {
   "cell_type": "markdown",
   "metadata": {},
   "source": [
    "# Data Pipeline: Load and Clean NYC 311 and Liquor License Data\n",
    "\n",
    "This notebook loads NYC 311 noise complaints and liquor license data, filters for Brooklyn and Staten Island (2024), cleans ZIP codes, and saves cleaned datasets."
   ]
  },
  {
   "cell_type": "markdown",
   "metadata": {},
   "source": [
    "## 1. Setup and Imports"
   ]
  },
  {
   "cell_type": "code",
   "execution_count": null,
   "metadata": {},
   "outputs": [],
   "source": [
    "import pandas as pd\n",
    "import numpy as np\n",
    "from pathlib import Path\n",
    "import warnings\n",
    "warnings.filterwarnings('ignore')\n",
    "\n",
    "# Set display options\n",
    "pd.set_option('display.max_columns', None)\n",
    "pd.set_option('display.max_rows', 100)"
   ]
  },
  {
   "cell_type": "markdown",
   "metadata": {},
   "source": [
    "## 2. Load Data from NYC Open Data URLs"
   ]
  },
  {
   "cell_type": "code",
   "execution_count": null,
   "metadata": {},
   "outputs": [],
   "source": [
    "# NYC 311 Service Requests - Noise complaints\n",
    "# Filter for noise complaints in 2024 for Brooklyn and Staten Island\n",
    "print(\"Loading 311 noise complaint data from NYC Open Data...\")\n",
    "print(\"This may take a few minutes...\\n\")\n",
    "\n",
    "# SOCRATA API endpoint for 311 data with filters\n",
    "# Filter: Complaint Type contains 'Noise', Created Date in 2024, Borough in Brooklyn or Staten Island\n",
    "url_311 = (\n",
    "    \"https://data.cityofnewyork.us/resource/erm2-nwe9.csv?\"\n",
    "    \"$where=complaint_type like '%25Noise%25' AND \"\n",
    "    \"created_date >= '2024-01-01T00:00:00' AND \"\n",
    "    \"created_date < '2025-01-01T00:00:00' AND \"\n",
    "    \"(borough = 'BROOKLYN' OR borough = 'STATEN ISLAND')\"\n",
    "    \"&$limit=50000\"\n",
    ")\n",
    "\n",
    "try:\n",
    "    df_311 = pd.read_csv(url_311)\n",
    "    print(f\"Loaded {len(df_311)} noise complaint records from 2024\")\n",
    "except Exception as e:\n",
    "    print(f\"Error loading 311 data: {e}\")\n",
    "    print(\"Attempting to use alternative method...\")\n",
    "    # Fallback: load all data and filter locally\n",
    "    df_311 = pd.read_csv(\n",
    "        \"https://data.cityofnewyork.us/resource/erm2-nwe9.csv?$limit=50000&$where=complaint_type like '%25Noise%25'\"\n",
    "    )\n",
    "    df_311['created_date'] = pd.to_datetime(df_311['created_date'])\n",
    "    df_311 = df_311[\n",
    "        (df_311['created_date'].dt.year == 2024) &\n",
    "        (df_311['borough'].isin(['BROOKLYN', 'STATEN ISLAND']))\n",
    "    ]\n",
    "    print(f\"Loaded {len(df_311)} noise complaint records from 2024\")"
   ]
  },
  {
   "cell_type": "code",
   "execution_count": null,
   "metadata": {},
   "outputs": [],
   "source": [
    "# NYC Liquor License Data\n",
    "# Filter for active licenses in Brooklyn and Staten Island\n",
    "print(\"\\nLoading liquor license data from NYC Open Data...\")\n",
    "print(\"This may take a few minutes...\\n\")\n",
    "\n",
    "# SOCRATA API endpoint for liquor licenses\n",
    "# Filter for active licenses in Kings (Brooklyn) and Richmond (Staten Island) counties\n",
    "url_liquor = (\n",
    "    \"https://data.cityofnewyork.us/resource/tjby-92xf.csv?\"\n",
    "    \"$where=license_status = 'Active' AND \"\n",
    "    \"(county = 'Kings' OR county = 'Richmond')\"\n",
    "    \"&$limit=50000\"\n",
    ")\n",
    "\n",
    "try:\n",
    "    df_liquor = pd.read_csv(url_liquor)\n",
    "    print(f\"Loaded {len(df_liquor)} active liquor license records\")\n",
    "except Exception as e:\n",
    "    print(f\"Error loading liquor data: {e}\")\n",
    "    print(\"Attempting to use alternative method...\")\n",
    "    # Fallback: load all data and filter locally\n",
    "    df_liquor = pd.read_csv(\n",
    "        \"https://data.cityofnewyork.us/resource/tjby-92xf.csv?$limit=50000\"\n",
    "    )\n",
    "    df_liquor = df_liquor[\n",
    "        (df_liquor['license_status'] == 'Active') &\n",
    "        (df_liquor['county'].isin(['Kings', 'Richmond']))\n",
    "    ]\n",
    "    print(f\"Loaded {len(df_liquor)} active liquor license records\")"
   ]
  },
  {
   "cell_type": "markdown",
   "metadata": {},
   "source": [
    "## 3. Clean ZIP Codes to Standard 5-Digit Format"
   ]
  },
  {
   "cell_type": "code",
   "execution_count": null,
   "metadata": {},
   "outputs": [],
   "source": [
    "def clean_zip_code(zip_code):\n",
    "    \"\"\"\n",
    "    Clean ZIP code to standard 5-digit format.\n",
    "    Handles various formats like '11201', '11201-1234', etc.\n",
    "    \"\"\"\n",
    "    if pd.isna(zip_code):\n",
    "        return None\n",
    "    \n",
    "    # Convert to string and remove any whitespace\n",
    "    zip_str = str(zip_code).strip()\n",
    "    \n",
    "    # Remove anything after a dash (ZIP+4 format)\n",
    "    if '-' in zip_str:\n",
    "        zip_str = zip_str.split('-')[0]\n",
    "    \n",
    "    # Remove any non-numeric characters\n",
    "    zip_str = ''.join(c for c in zip_str if c.isdigit())\n",
    "    \n",
    "    # Pad with leading zeros if necessary\n",
    "    if len(zip_str) > 0:\n",
    "        zip_str = zip_str.zfill(5)\n",
    "        \n",
    "        # Only return if it's a valid 5-digit ZIP\n",
    "        if len(zip_str) == 5:\n",
    "            return zip_str\n",
    "    \n",
    "    return None\n",
    "\n",
    "# Clean 311 data ZIP codes\n",
    "print(\"Cleaning ZIP codes in 311 data...\")\n",
    "if 'incident_zip' in df_311.columns:\n",
    "    df_311['zip_code'] = df_311['incident_zip'].apply(clean_zip_code)\n",
    "    valid_311 = df_311['zip_code'].notna().sum()\n",
    "    print(f\"311 data: {valid_311} records with valid ZIP codes out of {len(df_311)} total\")\n",
    "elif 'zip_code' in df_311.columns:\n",
    "    df_311['zip_code'] = df_311['zip_code'].apply(clean_zip_code)\n",
    "    valid_311 = df_311['zip_code'].notna().sum()\n",
    "    print(f\"311 data: {valid_311} records with valid ZIP codes out of {len(df_311)} total\")\n",
    "else:\n",
    "    print(\"Warning: No ZIP code column found in 311 data\")\n",
    "\n",
    "# Clean liquor license ZIP codes\n",
    "print(\"\\nCleaning ZIP codes in liquor license data...\")\n",
    "if 'premises_zip_code' in df_liquor.columns:\n",
    "    df_liquor['zip_code'] = df_liquor['premises_zip_code'].apply(clean_zip_code)\n",
    "    valid_liquor = df_liquor['zip_code'].notna().sum()\n",
    "    print(f\"Liquor data: {valid_liquor} records with valid ZIP codes out of {len(df_liquor)} total\")\n",
    "elif 'zip_code' in df_liquor.columns:\n",
    "    df_liquor['zip_code'] = df_liquor['zip_code'].apply(clean_zip_code)\n",
    "    valid_liquor = df_liquor['zip_code'].notna().sum()\n",
    "    print(f\"Liquor data: {valid_liquor} records with valid ZIP codes out of {len(df_liquor)} total\")\n",
    "else:\n",
    "    print(\"Warning: No ZIP code column found in liquor data\")"
   ]
  },
  {
   "cell_type": "markdown",
   "metadata": {},
   "source": [
    "## 4. Filter Out Records Without Valid ZIP Codes"
   ]
  },
  {
   "cell_type": "code",
   "execution_count": null,
   "metadata": {},
   "outputs": [],
   "source": [
    "# Keep only records with valid ZIP codes for analysis\n",
    "df_311_clean = df_311[df_311['zip_code'].notna()].copy()\n",
    "df_liquor_clean = df_liquor[df_liquor['zip_code'].notna()].copy()\n",
    "\n",
    "print(f\"After filtering for valid ZIP codes:\")\n",
    "print(f\"311 noise complaints: {len(df_311_clean)} records\")\n",
    "print(f\"Liquor licenses: {len(df_liquor_clean)} records\")"
   ]
  },
  {
   "cell_type": "markdown",
   "metadata": {},
   "source": [
    "## 5. Save Cleaned Data"
   ]
  },
  {
   "cell_type": "code",
   "execution_count": null,
   "metadata": {},
   "outputs": [],
   "source": [
    "# Create output directory if it doesn't exist\n",
    "output_dir = Path('../data/clean')\n",
    "output_dir.mkdir(parents=True, exist_ok=True)\n",
    "\n",
    "# Save cleaned datasets\n",
    "print(\"Saving cleaned datasets...\\n\")\n",
    "\n",
    "noise_output = output_dir / '311_noise_cleaned.csv'\n",
    "liquor_output = output_dir / 'liquor_cleaned.csv'\n",
    "\n",
    "df_311_clean.to_csv(noise_output, index=False)\n",
    "print(f\"Saved: {noise_output}\")\n",
    "print(f\"  - {len(df_311_clean)} records\")\n",
    "\n",
    "df_liquor_clean.to_csv(liquor_output, index=False)\n",
    "print(f\"\\nSaved: {liquor_output}\")\n",
    "print(f\"  - {len(df_liquor_clean)} records\")"
   ]
  },
  {
   "cell_type": "markdown",
   "metadata": {},
   "source": [
    "## 6. Display First Few Rows as Confirmation"
   ]
  },
  {
   "cell_type": "code",
   "execution_count": null,
   "metadata": {},
   "outputs": [],
   "source": [
    "print(\"\\n\" + \"=\"*80)\n",
    "print(\"311 NOISE COMPLAINTS - FIRST 5 ROWS\")\n",
    "print(\"=\"*80)\n",
    "print(df_311_clean.head())\n",
    "\n",
    "print(\"\\n\" + \"=\"*80)\n",
    "print(\"LIQUOR LICENSES - FIRST 5 ROWS\")\n",
    "print(\"=\"*80)\n",
    "print(df_liquor_clean.head())"
   ]
  },
  {
   "cell_type": "code",
   "execution_count": null,
   "metadata": {},
   "outputs": [],
   "source": [
    "# Summary statistics\n",
    "print(\"\\n\" + \"=\"*80)\n",
    "print(\"DATA SUMMARY\")\n",
    "print(\"=\"*80)\n",
    "print(f\"\\n311 Noise Complaints (2024, Brooklyn & Staten Island):\")\n",
    "print(f\"  Total records: {len(df_311_clean)}\")\n",
    "if 'borough' in df_311_clean.columns:\n",
    "    print(f\"  By borough:\")\n",
    "    print(df_311_clean['borough'].value_counts().to_string())\n",
    "print(f\"  Unique ZIP codes: {df_311_clean['zip_code'].nunique()}\")\n",
    "\n",
    "print(f\"\\nLiquor Licenses (Active, Brooklyn & Staten Island):\")\n",
    "print(f\"  Total records: {len(df_liquor_clean)}\")\n",
    "if 'county' in df_liquor_clean.columns:\n",
    "    print(f\"  By county:\")\n",
    "    print(df_liquor_clean['county'].value_counts().to_string())\n",
    "print(f\"  Unique ZIP codes: {df_liquor_clean['zip_code'].nunique()}\")"
   ]
  }
 ],
 "metadata": {
  "kernelspec": {
   "display_name": "Python 3",
   "language": "python",
   "name": "python3"
  },
  "language_info": {
   "codemirror_mode": {
    "name": "ipython",
    "version": 3
   },
   "file_extension": ".py",
   "mimetype": "text/x-python",
   "name": "python",
   "nbconvert_exporter": "python",
   "pygments_lexer": "ipython3",
   "version": "3.8.0"
  }
 },
 "nbformat": 4,
 "nbformat_minor": 4
}


