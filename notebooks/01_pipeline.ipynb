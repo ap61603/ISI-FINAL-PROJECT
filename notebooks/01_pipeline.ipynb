{
 "nbformat": 4,
 "nbformat_minor": 5,
 "metadata": {
  "kernelspec": {
   "display_name": "Python 3",
   "language": "python",
   "name": "python3"
  },
  "language_info": {
   "name": "python",
   "version": "3.8"
  }
 },
 "cells": [
  {
   "cell_type": "markdown",
   "metadata": {},
   "source": [
    "# 01_pipeline.ipynb\n",
    "\n",
    "This notebook defines and demonstrates a reproducible ML pipeline for the project. It covers:\n",
    "- loading the processed data\n",
    "- building a preprocessing pipeline (numeric + categorical)\n",
    "- assembling a full sklearn Pipeline with an estimator\n",
    "- quick evaluation (cross-validation / holdout)\n",
    "- saving the fitted model/artifacts\n",
    "\n",
    "Replace paths and feature lists with project-specific values."
   ]
  },
  {
   "cell_type": "markdown",
   "metadata": {},
   "source": [
    "## Objectives\n",
    "- Provide a canonical pipeline used for experiments\n",
    "- Make it easy to swap models and preprocessing steps\n",
    "- Save the final pipeline for deployment or inference"
   ]
  },
  {
   "cell_type": "code",
   "execution_count": null,
   "metadata": {},
   "outputs": [],
   "source": [
    "# Imports and configuration\n",
    "import os\n",
    "from pathlib import Path\n",
    "import pandas as pd\n",
    "import numpy as np\n",
    "from sklearn.model_selection import train_test_split, cross_val_score\n",
    "from sklearn.pipeline import Pipeline\n",
    "from sklearn.compose import ColumnTransformer\n",
    "from sklearn.impute import SimpleImputer\n",
    "from sklearn.preprocessing import StandardScaler, OneHotEncoder\n",
    "from sklearn.ensemble import RandomForestClassifier\n",
    "import joblib\n",
    "\n",
    "RANDOM_STATE = 42\n",
    "DATA_PATH = Path(\"../data/processed/data.csv\")  # Update to your processed data path\n",
    "MODEL_DIR = Path(\"../models\")\n",
    "MODEL_DIR.mkdir(parents=True, exist_ok=True)\n"
   ]
  },
  {
   "cell_type": "code",
   "execution_count": null,
   "metadata": {},
   "outputs": [],
   "source": [
    "# Load data (update path as needed). Expect a single CSV with features + target.\n",
    "if not DATA_PATH.exists():\n",
    "    print(f\"WARNING: {DATA_PATH} not found. Update DATA_PATH to point to your processed CSV.\")\n",
    "else:\n",
    "    df = pd.read_csv(DATA_PATH)\n",
    "    print(\"Loaded:\", DATA_PATH)\n",
    "    display(df.head())\n"
   ]
  },
  {
   "cell_type": "markdown",
   "metadata": {},
   "source": [
    "### Quick data checks and feature selection\n",
    "Decide which features are numeric and which are categorical. You can autodetect, but for stability it's often better to explicitly list them."
   ]
  },
  {
   "cell_type": "code",
   "execution_count": null,
   "metadata": {},
   "outputs": [],
   "source": [
    "# Example: simple automatic split (adapt to your project)\n",
    "try:\n",
    "    df\n",
    "except NameError:\n",
    "    df = pd.DataFrame()  # placeholder so the cell does not error in CI\n",
    "\n",
    "TARGET = \"target\"  # <<-- REPLACE with your target column name\n",
    "\n",
    "if not df.empty:\n",
    "    # Basic type-based split (override with explicit lists if necessary)\n",
    "    numeric_features = df.select_dtypes(include=[np.number]).columns.drop(TARGET).tolist()\n",
    "    categorical_features = df.select_dtypes(include=[object, \"category\"]).columns.tolist()\n",
    "    # Remove target from categorical if it slipped in\n",
    "    categorical_features = [c for c in categorical_features if c != TARGET]\n",
    "    print(\"Numeric:\", numeric_features)\n",
    "    print(\"Categorical:\", categorical_features)\n",
    "else:\n",
    "    numeric_features = []\n",
    "    categorical_features = []\n",
    "    print(\"Dataframe empty; update DATA_PATH and TARGET and re-run.\")\n"
   ]
  },
  {
   "cell_type": "markdown",
   "metadata": {},
   "source": [
    "### Build preprocessing pipelines\n",
    "Numeric: impute (median) + scale.  Categorical: impute (constant) + one-hot encode.\n",
    "Adjust transformers to your needs (e.g., OrdinalEncoder, target encoding, custom transformers)."
   ]
  },
  {
   "cell_type": "code",
   "execution_count": null,
   "metadata": {},
   "outputs": [],
   "source": [
    "# Preprocessing pipelines\n",
    "numeric_transformer = Pipeline(steps=[\n",
    "    (\"imputer\", SimpleImputer(strategy=\"median\")),\n",
    "    (\"scaler\", StandardScaler())\n",
    "])\n",
    "categorical_transformer = Pipeline(steps=[\n",
    "    (\"imputer\", SimpleImputer(strategy=\"constant\", fill_value=\"missing\")),\n",
    "    (\"onehot\", OneHotEncoder(handle_unknown=\"ignore\", sparse=False))\n",
    "])\n",
    "preprocessor = ColumnTransformer(transformers=[\n",
    "    (\"num\", numeric_transformer, numeric_features),\n",
    "    (\"cat\", categorical_transformer, categorical_features),\n",
    "], remainder=\"drop\")\n"
   ]
  },
  {
   "cell_type": "markdown",
   "metadata": {},
   "source": [
    "### Full pipeline (preprocessing + estimator)\n",
    "Switch the estimator to any model you prefer (LogisticRegression, XGBoost, etc.)."
   ]
  },
  {
   "cell_type": "code",
   "execution_count": null,
   "metadata": {},
   "outputs": [],
   "source": [
    "clf = Pipeline(steps=[\n",
    "    (\"preprocessor\", preprocessor),\n",
    "    (\"estimator\", RandomForestClassifier(n_estimators=100, random_state=RANDOM_STATE))\n",
    "])\n",
    "# If data is available, run a quick train/test split and quick CV\n",
    "if not df.empty:\n",
    "    X = df.drop(columns=[TARGET])\n",
    "    y = df[TARGET]\n",
    "    X_train, X_test, y_train, y_test = train_test_split(X, y, test_size=0.2, random_state=RANDOM_STATE)\n",
    "\n",
    "    print(\"Fitting pipeline on training data...\")\n",
    "    clf.fit(X_train, y_train)\n",
    "    print(\"

