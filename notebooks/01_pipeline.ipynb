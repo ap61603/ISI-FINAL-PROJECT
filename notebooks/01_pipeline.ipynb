{
 "cells": [
  {
   "cell_type": "markdown",
   "metadata": {},
   "source": [
    "# 01_pipeline.ipynb\n",
    "\n",
    "Data cleaning and preparation pipeline for the ISI Final Project."
   ]
  },
  {
   "cell_type": "code",
   "execution_count": null,
   "metadata": {},
   "outputs": [],
   "source": [
    "# --- Import Libraries ---\n",
    "import pandas as pd\n",
    "import numpy as np\n",
    "import os"
   ]
  },
  {
   "cell_type": "code",
   "execution_count": null,
   "metadata": {},
   "outputs": [],
   "source": [
    "# --- Define Paths ---\n",
    "RAW_DATA_PATH = \"../data/raw\"\n",
    "FILE_NAME = \"sla_active.csv\"  # Ensure this matches your dataset name\n",
    "FILE_PATH = os.path.join(RAW_DATA_PATH, FILE_NAME)"
   ]
  },
  {
   "cell_type": "code",
   "execution_count": null,
   "metadata": {},
   "outputs": [],
   "source": [
    "# --- Load Data ---\n",
    "try:\n",
    "    df = pd.read_csv(FILE_PATH)\n",
    "    print(\"✅ Data loaded successfully.\")\n",
    "    print(f\"Shape: {df.shape}\")\n",
    "except FileNotFoundError:\n",
    "    print(\"❌ CSV file not found. Check your path or filename.\")\n",
    "except Exception as e:\n",
    "    print(f\"⚠️ Error loading CSV: {e}\")"
   ]
  },
  {
   "cell_type": "code",
   "execution_count": null,
   "metadata": {},
   "outputs": [],
   "source": [
    "# --- Basic Cleaning ---\n",
    "if 'df' in locals():\n",
    "    # Remove duplicates\n",
    "    df.drop_duplicates(inplace=True)\n",
    "    # Strip whitespace from column names\n",
    "    df.columns = df.columns.str.strip()\n",
    "    # Fill missing values\n",
    "    df.fillna(\"N/A\", inplace=True)\n",
    "\n",
    "    print(\"✅ Basic cleaning complete.\")\n",
    "    display(df.head())"
   ]
  },
  {
   "cell_type": "code",
   "execution_count": null,
   "metadata": {},
   "outputs": [],
   "source": [
    "# --- Save Cleaned Data ---\n",
    "CLEAN_PATH = \"../data/clean\"\n",
    "os.makedirs(CLEAN_PATH, exist_ok=True)\n",
    "df.to_csv(os.path.join(CLEAN_PATH, \"sla_clean.csv\"), index=False)\n",
    "print(\"💾 Cleaned dataset saved successfully.\")"
   ]
  }
 ],
 "metadata": {
  "kernelspec": {
   "display_name": "Python 3",
   "language": "python",
   "name": "python3"
  },
  "language_info": {
   "name": "python",
   "version": "3.10"
  }
 },
 "nbformat": 4,
 "nbformat_minor": 5
}
