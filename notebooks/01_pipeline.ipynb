jupyter nbconvert --to notebook --execute notebooks/01_pipeline.py --output notebooks/01_pipeline.ipynb
